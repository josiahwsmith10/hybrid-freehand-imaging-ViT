{
 "cells": [
  {
   "cell_type": "code",
   "execution_count": null,
   "id": "fc71d8c3",
   "metadata": {},
   "outputs": [],
   "source": [
    "from model import HFFH_ViT\n",
    "import torch\n",
    "\n",
    "im = torch.randn((4, 1, 8, 8))\n",
    "print(im.shape)\n",
    "\n",
    "args = {}\n",
    "args['image_size'] = (256, 256)\n",
    "args['patch_size'] = (2, 2)\n",
    "args['dims'] = [96, 120, 144]\n",
    "#the last channel argument determines the amount of output channels. SET = 1\n",
    "args['channels'] = [16, 32, 48, 48, 64, 64, 80, 80, 96, 96, 1]\n",
    "args['expansion'] = 1\n",
    "args['kernel_size'] = 3\n",
    "args['depths'] = (2, 4, 3)\n",
    "args['in_channels'] = 1\n",
    "\n",
    "model = HFFH_ViT(args)\n",
    "im = model(im)\n",
    "print(im.shape)\n"
   ]
  },
  {
   "cell_type": "code",
   "execution_count": 7,
   "id": "b5fe2d96",
   "metadata": {},
   "outputs": [
    {
     "name": "stdout",
     "output_type": "stream",
     "text": [
      "loaded radarImagesFFH from hffh_ViT_solid_w_points_2048_training\n",
      "loaded radarImagesFFH from hffh_ViT_solid_w_points_2048_training_v2\n",
      "loaded idealImages from hffh_ViT_solid_w_points_2048_training\n",
      "loaded idealImages from hffh_ViT_solid_w_points_2048_training_v2\n"
     ]
    }
   ],
   "source": [
    "import torch\n",
    "from data import HFFH_ViT_Data\n",
    "\n",
    "args = {}\n",
    "args['device'] = torch.device(\"cuda:0\")\n",
    "d = HFFH_ViT_Data(args)\n",
    "\n",
    "d.create_train_dataset()"
   ]
  },
  {
   "cell_type": "code",
   "execution_count": 9,
   "id": "aa8887be",
   "metadata": {},
   "outputs": [
    {
     "data": {
      "text/plain": [
       "'torch.cuda.DoubleTensor'"
      ]
     },
     "execution_count": 9,
     "metadata": {},
     "output_type": "execute_result"
    }
   ],
   "source": [
    "d.dataset_train.tensors[0].type()"
   ]
  }
 ],
 "metadata": {
  "interpreter": {
   "hash": "01f572d74fdf3d74e608f44a32fff06de9c7e8ec7cec3cccff4f4ed186f21499"
  },
  "kernelspec": {
   "display_name": "Python 3.10.0 64-bit",
   "name": "python3"
  },
  "language_info": {
   "codemirror_mode": {
    "name": "ipython",
    "version": 3
   },
   "file_extension": ".py",
   "mimetype": "text/x-python",
   "name": "python",
   "nbconvert_exporter": "python",
   "pygments_lexer": "ipython3",
   "version": "3.9.8"
  },
  "toc-showcode": false
 },
 "nbformat": 4,
 "nbformat_minor": 5
}
