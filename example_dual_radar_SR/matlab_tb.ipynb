{
 "cells": [
  {
   "cell_type": "code",
   "execution_count": 2,
   "id": "6f3552c4",
   "metadata": {},
   "outputs": [],
   "source": [
    "import matplotlib.pyplot as plt\n",
    "import numpy as np\n",
    "import torch\n",
    "from data import Data, MATLAB_Data\n",
    "from loss import Loss\n",
    "from model import ComplexModel\n",
    "from model.common import CPLX\n",
    "from trainer import Trainer\n",
    "from radar import DualRadar, DualRadarSAR\n",
    "from saved import Saver"
   ]
  },
  {
   "cell_type": "code",
   "execution_count": null,
   "id": "80292ddc",
   "metadata": {},
   "outputs": [],
   "source": [
    "def test_net(input, net_path=\"./saved/fftnet5.tar\"):\n",
    "    \"\"\"Applies dual-radar-SR network to data from MATLAB\n",
    "\n",
    "    Args:\n",
    "        input (MATLAB): Nk x N complex array from MATLAB, where N is the number of samples\n",
    "    \"\"\"\n",
    "    \n",
    "    input = np.array(input).transpose()\n",
    "    N, Nk = input.shape\n",
    "    input = input.reshape((N, 1, Nk))\n",
    "    input = torch.from_numpy(input)\n",
    "    \n",
    "    dr = DualRadar()\n",
    "    d = Data(dr, 0)\n",
    "    \n",
    "    s = Saver()\n",
    "    args, m, l, t = s.Load(d, ComplexModel, Loss, Trainer, net_path)\n",
    "    d = Data(dr, args)\n",
    "    d.create_dataset_train(1, 1, \"xz\")\n",
    "    \n",
    "    input = input.to(args.device)\n",
    "    x_in = CPLX(torch.real(input), torch.imag(input))\n",
    "    Y_pred = m.model(x_in)\n",
    "    output = (Y_pred.r + 1j*Y_pred.i).cpu().detach().numpy().reshape((N, Nk))\n",
    "    \n",
    "    return output\n",
    "    \n",
    "    \n",
    "    \n",
    "    \n",
    "    \n",
    "    "
   ]
  },
  {
   "cell_type": "code",
   "execution_count": null,
   "id": "cde60a4c",
   "metadata": {},
   "outputs": [],
   "source": []
  }
 ],
 "metadata": {
  "interpreter": {
   "hash": "01f572d74fdf3d74e608f44a32fff06de9c7e8ec7cec3cccff4f4ed186f21499"
  },
  "kernelspec": {
   "display_name": "Python 3.10.0 64-bit",
   "name": "python3"
  },
  "language_info": {
   "codemirror_mode": {
    "name": "ipython",
    "version": 3
   },
   "file_extension": ".py",
   "mimetype": "text/x-python",
   "name": "python",
   "nbconvert_exporter": "python",
   "pygments_lexer": "ipython3",
   "version": "3.9.8"
  },
  "toc-showcode": false
 },
 "nbformat": 4,
 "nbformat_minor": 5
}
